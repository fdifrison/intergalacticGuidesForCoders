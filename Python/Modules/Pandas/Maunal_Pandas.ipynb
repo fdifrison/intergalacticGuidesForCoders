{
 "cells": [
  {
   "cell_type": "markdown",
   "id": "1b905c43-ccc1-4a75-b712-1c47c3c6156e",
   "metadata": {},
   "source": [
    "<h1>Pandas Manual</h1>\n",
    "\n",
    "by Ing. Giovanni Frison"
   ]
  },
  {
   "cell_type": "code",
   "execution_count": 1,
   "id": "3ea43bb0-b5bf-42f6-bf81-28aa2496955e",
   "metadata": {},
   "outputs": [
    {
     "name": "stdout",
     "output_type": "stream",
     "text": [
      " last update: 2022-08-29\n"
     ]
    }
   ],
   "source": [
    "from datetime import date\n",
    "print(f' last update: {date.today()}')"
   ]
  },
  {
   "cell_type": "code",
   "execution_count": null,
   "id": "13e31286-c57c-4c08-b587-8a6736afa583",
   "metadata": {},
   "outputs": [],
   "source": []
  },
  {
   "cell_type": "code",
   "execution_count": null,
   "id": "792cdb7f-00d2-416d-9813-5fb346e2a2e0",
   "metadata": {},
   "outputs": [],
   "source": []
  },
  {
   "cell_type": "code",
   "execution_count": null,
   "id": "2503cc89-8fc3-49e8-8a24-9a6942586c50",
   "metadata": {},
   "outputs": [],
   "source": []
  }
 ],
 "metadata": {
  "kernelspec": {
   "display_name": "Python 3 (ipykernel)",
   "language": "python",
   "name": "python3"
  },
  "language_info": {
   "codemirror_mode": {
    "name": "ipython",
    "version": 3
   },
   "file_extension": ".py",
   "mimetype": "text/x-python",
   "name": "python",
   "nbconvert_exporter": "python",
   "pygments_lexer": "ipython3",
   "version": "3.9.12"
  }
 },
 "nbformat": 4,
 "nbformat_minor": 5
}
